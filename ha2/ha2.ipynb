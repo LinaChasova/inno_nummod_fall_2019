{
 "cells": [
  {
   "cell_type": "code",
   "execution_count": null,
   "metadata": {},
   "outputs": [],
   "source": [
    "import sympy as sp\n",
    "import numpy as np\n",
    "import matplotlib.pyplot as plt"
   ]
  },
  {
   "cell_type": "markdown",
   "metadata": {},
   "source": [
    "### 1. Formulate the statement of the interpolation problem with Cubic Spline [mathematical formula]"
   ]
  },
  {
   "cell_type": "markdown",
   "metadata": {},
   "source": [
    "$S_3(x) = \\bigcup\\limits_{i=0}^{n-1}S_{3, i}(x)$, such that\n",
    "\n",
    "$S_3 \\in C^2[a, b]$, with $q = 1$, where\n",
    "\n",
    "$S_{3, i} = a_{0, i} + a_{1, i} (x - x_i) + a_{2, i} (x - x_i)^2 + a_{3, i} (x - x_i)^3 $,\n",
    "where $i = 0, \\ldots, n-1$, number of splines.\n",
    "\n",
    "\n",
    "\n",
    "\n"
   ]
  },
  {
   "cell_type": "markdown",
   "metadata": {},
   "source": [
    "### 2. Formulate the functional and differential compatibility conditions [mathematical formula]"
   ]
  },
  {
   "cell_type": "markdown",
   "metadata": {},
   "source": [
    "\n",
    "Compatibility conditions:\n",
    "$\\delta S^{(p_1)}_{3, i}(x_j) = S^{(p_1)}_{3, i}(x)$ $\\large|_{x=x_i}$ $ - f{(p_1)}(x)$ $\\large |_{x=x_i}$ \n",
    "$ = 0, j = i, i+1$\n",
    "\n",
    "Assume first method, where $p_1 = \\{0, 2\\}$\n",
    "\n",
    "Functional compatibility conditions:\n",
    "- 1) $\\delta S_{3, i}(x)$ $\\large|_{x=x_i}$ $= S_{3, i}(x_i)$ $ - f(x_i)$ $ = 0$\n",
    "- 2) $\\delta S_{3, i}(x)$ $\\large|_{x=x_{i+1}}$ $= S_{3, i}(x_{i+1})$ $ - f(x_{i+1})$ $ = 0$\n",
    "\n",
    "Differential compatibility conditions:\n",
    "- 3) $\\delta S^\"_{3, i}(x)$ $\\large|_{x=x_i}$ $= S^{\"}_{3, i}(x_i)$ $ - f^{\"}(x_i)$ $ = 0$\n",
    "- 4) $\\delta S^{\"}_{3, i}(x)$ $\\large|_{x=x_{i+1}}$ $= S^{\"}_{3, i}(x_{i+1})$ $ - f^{\"}(x_{i+1})$ $ = 0$\n",
    "\n"
   ]
  },
  {
   "cell_type": "markdown",
   "metadata": {},
   "source": [
    "### 3. Formulate stitching conditions [mathematical formula]"
   ]
  },
  {
   "cell_type": "markdown",
   "metadata": {},
   "source": [
    "\n",
    "Stitching conditions: $S^{(p_2)}_{3, i-1}(x)$ $\\large|_{x=x_i}$ \n",
    "$= S^{(p_2)}_{3, i}(x)$ $\\large|_{x=x_i}$  $ i = \\overline{1, n-1}$\n",
    "\n",
    "Assume first method, where $p_2 = \\{1\\}$\n",
    "\n",
    "Stitching conditions:\n",
    "* $S^{'}_{3, i-1}(x)$ $\\large|_{x=x_i}$ \n",
    "$= S^{'}_{3, i}(x)$ $\\large|_{x=x_i}$  $ i = \\overline{1, n-1}$\n",
    "\n"
   ]
  },
  {
   "cell_type": "markdown",
   "metadata": {},
   "source": [
    "### 4. Justify why these conditions provide you with the required smoothness [thesis text, no more than 500 characters]"
   ]
  },
  {
   "cell_type": "markdown",
   "metadata": {},
   "source": [
    "\n",
    "If interpolated function is smooth enough, thus its derivatives is also smooth, and requires continuity on the \n",
    "inside knots. Thus, having stiching conditions, provides the interpolant to have the same derivatives on the \n",
    "joint knots, which is the condition for the continuity of function. Whilist, functional and differential \n",
    "compatibility conditions fulfill smoothness on the inside knots, by following smoothness of interpolated \n",
    "function.\n",
    "\n",
    "\n",
    "\n",
    "\n",
    "\n",
    "\n"
   ]
  },
  {
   "cell_type": "markdown",
   "metadata": {},
   "source": [
    "### 5. Derive dependency formula: the dependence of the second derivatives at the grid nodes on the increment of the function (the function values difference on the grid nodes). [Mathematical formulas derivation. Detailed, with clear transitions]"
   ]
  },
  {
   "cell_type": "markdown",
   "metadata": {},
   "source": [
    "Taking first derivative of left part of equation of stitching conditions:\n",
    "\n",
    "\\begin{equation} S_{3, i-1}^{'}(x) = a_{1, i-1} + 2a_{2, i-1}(x - x_{i-1}) + 3a_{3, i-1}(x - x_{i-1})^2 \\end{equation}\n",
    "\n",
    "Taking first derivative of right part of equation of stitching conditions:\n",
    "\n",
    "\\begin{equation}S_{3, i}^{'}(x) = a_{1, i} + 2a_{2, i}(x - x_{i}) + 3a_{3, i}(x - x_{i})^2\\end{equation}\n",
    "\n",
    "Substitute coeffitients from Task №6 into stitching condition:\n",
    "\n",
    "\\begin{equation} \\frac{1}{h_i} \\Delta f_{i-1} - \\frac{h_i}{2} m_{i-1} - \\frac{h_i}{6} \\Delta m_{i-1} +  m_{i-1}(x_i + x_{i-1}) + \\frac{\\Delta m_{i-1}}{2h_{i}}(x_i - x_{i-1})^2 = \\frac{1}{h_{i+1}} \\Delta f_{i} - \\frac{h_{i+1}}{2} m_{i} - \\frac{h_{i+1}}{6} \\Delta m_{i} +  m_{i}(x_i + x_{i}) + \\frac{\\Delta m_{i}}{2h_{i+1}}(x_i - x_{i})^2 \\end{equation}\n",
    "\n",
    "Substituting $h_{i}$:\n",
    "\\begin{equation} \\frac{1}{h_i} \\Delta f_{i-1} - \\frac{h_i}{2} m_{i-1} - \\frac{h_i}{6} \\Delta m_{i-1} +  m_{i-1}h_i + \\frac{\\Delta m_{i-1}}{2}h_i = \\frac{1}{h_{i+1}} \\Delta f_{i} - \\frac{h_{i+1}}{2} m_{i} - \\frac{h_{i+1}}{6} \\Delta m_{i} \\end{equation}\n",
    "\n",
    "\\begin{equation} \\frac{h_i}{2}m_{i-1} + \\frac{h_i}{3}\\Delta m_{i-1} + \\frac{h_{i+1}}{2}m_i + \\frac{h_{i+1}}{6}\\Delta m_i = \\frac{1}{h_{i+1}} \\Delta f_i - \\frac{1}{h_i} \\Delta f_{i-1}\\end{equation}\n",
    "\n",
    "Let's remove $\\Delta m_i$ and $\\Delta m_{i-1}$:\n",
    "\n",
    "\\begin{equation} \\frac{h_i}{2}m_{i-1} + \\frac{h_i}{3}(m_i - m_{i-1}) + \\frac{h_{i+1}}{2}m_i + \\frac{h_{i+1}}{6} (m_{i+1} - m_i) = \\frac{1}{h_{i+1}} \\Delta f_i - \\frac{1}{h_i} \\Delta f_{i-1} \\end{equation}\n",
    "\n",
    "\\begin{equation} \\frac{h_i}{2} m_{i-1} + \\frac{h_i}{3} m_i - \\frac{h_i}{3} m_{i-1} + \\frac{h_{i+1}}{2} m_i + \\frac{h_{i+1}}{6} m_{i+1} - \\frac{h_{i+1}}{6} m_i =  \\frac{1}{h_{i+1}} \\Delta f_i - \\frac{1}{h_i} \\Delta f_{i-1} \\end{equation}\n",
    "\n",
    "\\begin{equation} m_{i-1} \\left( \\frac{3h_i}{6} - \\frac{2h_i}{6} \\right) + m_i \\left( \\frac{h_i}{3} + \\frac{3h_{i+1}}{6} - \\frac{h_{i+1}}{6} \\right) + \\frac{h_{i+1}}{6} m_{i+1} =  \\frac{1}{h_{i+1}} \\Delta f_i - \\frac{1}{h_i} \\Delta f_{i-1}  \\end{equation}\n",
    "\n",
    "\\begin{equation} \\frac{h_i}{6}m_{i-1} + m_i \\left( \\frac{h_i}{3} + \\frac{h_{i+1}}{3} \\right) + \\frac{h_{i+1}}{6} m_{i+1} =  \\frac{1}{h_{i+1}} \\Delta f_i - \\frac{1}{h_i} \\Delta f_{i-1} \\end{equation}\n",
    "\n",
    "\\begin{equation} \\frac{h_i}{6}m_{i-1} + \\frac{h_i + h_{i+1}}{3} m_i + \\frac{h_{i+1}}{6} m_{i+1} =  \\frac{1}{h_{i+1}} \\Delta f_i - \\frac{1}{h_i} \\Delta f_{i-1} \\end{equation}"
   ]
  },
  {
   "cell_type": "markdown",
   "metadata": {},
   "source": [
    "### 6. Create a system of equations using this formula [Matrix representation. Mathematical formulas]"
   ]
  },
  {
   "cell_type": "markdown",
   "metadata": {},
   "source": [
    "First derivative of spline:\n",
    "$S^{'}_{3, i}(x) = a_{1,i} + 2a_{2, i}(x - x_i) + 3a_{3, i}(x - x_i)^2$\n",
    "\n",
    "Second derivative of spline:\n",
    "$S^{\"}_{3, i}(x) = 2a_{2, i} + 6a_{3, i} (x - x_i)$\n",
    "\n",
    "Substitute spline equation into (1), (2), and second derivative into (3), (4).\n",
    "\n",
    "\\begin{cases} a_{0,i} + a_{1,i}(x_i - x_i) + a_{2,i}(x_i - x_i)^2 + a_{3,i}(x_i - x_i)^3 - f(x_i) = 0 \\\\ a_{0,i} + a_{1,i}(x_{i+1} - x_i) + a_{2,i}(x_{i+1} - x_i)^2 + a_{3,i}(x_{i+1} - x_i)^3 - f(x_{i+1}) = 0 \\\\ 2a_{2,i} + 6a_{3,i}(x_i - x_i) - f^{\"}(x_i) = 0 \\\\ 2a_{2,i} + 6a_{3,i}(x_{i+1} - x_i) - f^{\"}(x_{i+1}) = 0 \\end{cases}\n",
    "\n",
    "\\begin{equation}\n",
    "\\begin{vmatrix}\n",
    "1 & 0 & 0 & 0 \\\\\n",
    "1 & (x_{i+1}-x_i) & (x_{i+1}-x_{i})^2 & (x_{i+1}-x_i)^3 \\\\\n",
    "0 & 0 & 2 & 0 \\\\\n",
    "0 & 0 & 2 & 6(x_{i+1}-x_{i})\n",
    "\\end{vmatrix} \\cdot \\begin{vmatrix} \n",
    "a_{0,i} \\\\\n",
    "a_{1,i} \\\\\n",
    "a_{2,i} \\\\\n",
    "a_{3,i}\n",
    "\\end{vmatrix} = \\begin{vmatrix} \n",
    "f_i \\\\\n",
    "f_{i+1} \\\\\n",
    "m_i \\\\\n",
    "m_{i+1}\n",
    "\\end{vmatrix}\\end{equation}\n",
    "\n",
    "let $h_{i+1} = x_{i+1} - x_{i}$, $\\Delta f_i = f_{i+1} - f_{i}$, $f_i = f(x_i)$, $\\Delta m_i = m_{i+1} - m_i$, $m_i = f^{\"}(x_i)$\n",
    "\n",
    "\\begin{cases} a_{0, i} - f_i = 0 \\\\ a_{0,i} + a_{1,i}(x_{i+1} - x_i) + a_{2,i}(x_{i+1} - x_i)^2 + a_{3,i}(x_{i+1} - x_i)^3 - f_{i+1} = 0 \\\\ 2a_{2, i} - m_i = 0 \\\\ 2a_{2, i} + 6a_{3, i}(x_{i+1} - x_i) - m_{i+1} = 0 \\end{cases}\n",
    "\n",
    "Subtracting 4th from 3rd equations:\n",
    "\n",
    "\\begin{equation} -6a_{3, i}(x_{i+1} - x_i) - m_i + m_{i+1} = 0 \\end{equation}\n",
    "\n",
    "Substitute $h_{i+1}$ and $\\Delta m_i$:\n",
    "\n",
    "\\begin{equation}-6a_{3, i}h_{i+1} + \\Delta m_i = 0\\end{equation}\n",
    "\n",
    "\\begin{equation} a_{3, i} = \\frac{1}{6h_{i+1}}\\Delta m_i\\end{equation}\n",
    "\n",
    "\\begin{cases} a_{0, i} = f_i \\\\ f_i + a_{1,i}h_{i+1} + \\frac{m_i}{2} h_{i+1}^2 + \\frac{1}{6h_{i+1}}\\Delta m_i h_{i+1}^3 - f_{i+1} = 0 \\\\ a_{2, i} = \\frac{m_i}{2} \\\\ a_{3, i} = \\frac{1}{6h_{i+1}}\\Delta m_i \\end{cases}\n",
    "\n",
    "Solving second equation:\n",
    "\n",
    "\\begin{equation}f_i + a_{1,i}h_{i+1} + \\frac{m_i}{2} h_{i+1}^2 + \\frac{1}{6h_{i+1}}\\Delta m_i h_{i+1}^3 - f_{i+1} = 0\\end{equation}\n",
    "\n",
    "Substitute $\\Delta f_i$:\n",
    "\n",
    "\\begin{equation}-\\Delta f_i + a_{1, i}h_{i+1} + \\frac{m_i}{2} h_{i+1}^2 + \\frac{1}{6h_{i+1}}\\Delta m_i h_{i+1}^3 = 0\\end{equation}\n",
    "\n",
    "\\begin{equation}a_{1, i}h_{i+1} = \\Delta f_i - \\frac{m_i}{2} h_{i+1}^2 - \\frac{1}{6}\\Delta m_i h_{i+1}^2\\end{equation}\n",
    "\n",
    "\\begin{equation}a_{1, i} = \\frac{1}{h_{i+1}}\\Delta f_i - \\frac{h_{i+1}}{2} m_i - \\frac{h_{i+1}}{6}\\Delta m_i\\end{equation}\n",
    "\n",
    "\\begin{cases} a_{0, i} = f_i \\\\ a_{1, i} = \\frac{1}{h_{i+1}}\\Delta f_i - \\frac{h_{i+1}}{2} m_i - \\frac{h_{i+1}}{6}\\Delta m_i \\\\  a_{2, i} = \\frac{m_i}{2} \\\\ a_{3, i} = \\frac{1}{6h_{i+1}}\\Delta m_i \\end{cases}\n",
    "\n",
    "Substitute $a_{0, i}$, $a_{1,i}$, $a_{2,i}$, $a_{3, i}$ into spline equation:\n",
    "\n",
    "\\begin{equation}S_{3, i}(x) = f_i + \\left( \\frac{1}{h_{i+1}}\\Delta f_i - \\frac{h_{i+1}}{2} m_i - \\frac{h_{i+1}}{6}\\Delta m_i \\right)(x-x_i) + \\frac{m_i}{2} (x - x_i)^2 + \\frac{1}{6h_{i+1}}\\Delta m_i (x - x_i)^3\\end{equation}"
   ]
  },
  {
   "cell_type": "markdown",
   "metadata": {},
   "source": [
    "### 7. Explain what is an unknown variable in this system. whether the system is closed with respect to an unknown variable. What is missing for closure. [Text, no more than 200 characters]"
   ]
  },
  {
   "cell_type": "markdown",
   "metadata": {},
   "source": [
    "Unknown variable is $m_i$, it is not closed, as we are missing two equations. For closure usually used different \n",
    "ways of approximation of derivatives on the end (Boundary Conditions). For example, natural spline: $m_0 = 0$ and \n",
    "$m_n = 0$.\n",
    "\n"
   ]
  },
  {
   "cell_type": "markdown",
   "metadata": {},
   "source": [
    "### 8. Bring this matrix to the appropriate form to use the Tridiagonal matrix algorithm [Mathematical derivation. Use Gauss Elimination]"
   ]
  },
  {
   "cell_type": "code",
   "execution_count": null,
   "metadata": {},
   "outputs": [],
   "source": [
    "### YOUR TEXT/CODE HERE\n",
    "\n",
    "\n",
    "\n",
    "\n",
    "\n",
    "\n",
    "\n",
    "\n"
   ]
  },
  {
   "cell_type": "markdown",
   "metadata": {},
   "source": [
    "### 9. Derive formulas of direct pass and reverse pass of Tridiagonal matrix algorithm [Mathematical formals]"
   ]
  },
  {
   "cell_type": "code",
   "execution_count": null,
   "metadata": {},
   "outputs": [],
   "source": [
    "### YOUR TEXT/CODE HERE\n",
    "\n",
    "\n",
    "\n",
    "\n",
    "\n",
    "\n",
    "\n",
    "\n"
   ]
  },
  {
   "cell_type": "markdown",
   "metadata": {},
   "source": [
    "### 10. Implement code prototype of the future algorithm implementation. Classes/methods (if you use OOP), functions. The final implementation (on language chosen by you) should not differ from the functions declared in the prototype. [Python code]"
   ]
  },
  {
   "cell_type": "code",
   "execution_count": null,
   "metadata": {},
   "outputs": [],
   "source": [
    "### YOUR CODE HERE\n",
    "\n",
    "\n",
    "\n",
    "\n",
    "\n",
    "\n",
    "\n",
    "\n"
   ]
  },
  {
   "cell_type": "markdown",
   "metadata": {},
   "source": [
    "### 11. Derive formula of Cubic Spline method error [Mathematical formulas]"
   ]
  },
  {
   "cell_type": "code",
   "execution_count": null,
   "metadata": {},
   "outputs": [],
   "source": [
    "### YOUR TEXT/CODE HERE\n",
    "\n",
    "\n",
    "\n",
    "\n",
    "\n",
    "\n",
    "\n",
    "\n"
   ]
  },
  {
   "cell_type": "markdown",
   "metadata": {},
   "source": [
    "### 12. Rate the complexity of the algorithm [Text, and rate in terms of big O, no more than 100 characters]"
   ]
  },
  {
   "cell_type": "code",
   "execution_count": null,
   "metadata": {},
   "outputs": [],
   "source": [
    "### YOUR TEXT/CODE HERE\n",
    "\n",
    "\n",
    "\n",
    "\n",
    "\n",
    "\n",
    "\n",
    "\n"
   ]
  },
  {
   "cell_type": "markdown",
   "metadata": {},
   "source": [
    "### Congrats!"
   ]
  }
 ],
 "metadata": {
  "kernelspec": {
   "display_name": "Python 3",
   "language": "python",
   "name": "python3"
  },
  "language_info": {
   "codemirror_mode": {
    "name": "ipython",
    "version": 3
   },
   "file_extension": ".py",
   "mimetype": "text/x-python",
   "name": "python",
   "nbconvert_exporter": "python",
   "pygments_lexer": "ipython3",
   "version": "3.6.5"
  }
 },
 "nbformat": 4,
 "nbformat_minor": 2
}
